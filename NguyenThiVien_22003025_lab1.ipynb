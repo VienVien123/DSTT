{
 "cells": [
  {
   "cell_type": "markdown",
   "metadata": {},
   "source": [
    "# **GIỚI THIỆU VỀ PYTHON VÀ CÁC THƯ VIỆN TÍNH TOÁN**"
   ]
  },
  {
   "cell_type": "code",
   "execution_count": 109,
   "metadata": {},
   "outputs": [],
   "source": [
    "import numpy as np"
   ]
  },
  {
   "cell_type": "markdown",
   "metadata": {},
   "source": [
    "# **1. Bài tập trên lớp**"
   ]
  },
  {
   "cell_type": "markdown",
   "metadata": {},
   "source": [
    "#### **Lệnh: mat1 = np.zeros([5,5])**\n",
    "\n",
    "\\begin{equation}\n",
    "    \\text {mat1 = }\n",
    "    \\begin{pmatrix}\n",
    "      0 & 0 & 0 & 0 & 0 \\\\\n",
    "      0 & 0 & 0 & 0 & 0 \\\\\n",
    "      0 & 0 & 0 & 0 & 0 \\\\\n",
    "      0 & 0 & 0 & 0 & 0 \\\\\n",
    "      0 & 0 & 0 & 0 & 0 \\\\\n",
    "    \\end{pmatrix}\n",
    "\\end{equation}\n"
   ]
  },
  {
   "cell_type": "code",
   "execution_count": 110,
   "metadata": {},
   "outputs": [
    {
     "name": "stdout",
     "output_type": "stream",
     "text": [
      "[[0. 0. 0. 0. 0.]\n",
      " [0. 0. 0. 0. 0.]\n",
      " [0. 0. 0. 0. 0.]\n",
      " [0. 0. 0. 0. 0.]\n",
      " [0. 0. 0. 0. 0.]]\n"
     ]
    }
   ],
   "source": [
    "mat1 = np.zeros([5,5])\n",
    "print(mat1)"
   ]
  },
  {
   "cell_type": "markdown",
   "metadata": {},
   "source": [
    "####  **Lệnh: mat2 = np.ones([5,5])**\n",
    "\n",
    "\\begin{equation}\n",
    "    \\text{mat2 =} \n",
    "    \\begin{pmatrix}\n",
    "        1 & 1 & 1 & 1 & 1 \\\\\n",
    "        1 & 1 & 1 & 1 & 1 \\\\\n",
    "        1 & 1 & 1 & 1 & 1 \\\\\n",
    "        1 & 1 & 1 & 1 & 1 \\\\\n",
    "        1 & 1 & 1 & 1 & 1 \\\\\n",
    "    \\end{pmatrix}\n",
    "\\end{equation}"
   ]
  },
  {
   "cell_type": "code",
   "execution_count": 111,
   "metadata": {},
   "outputs": [
    {
     "name": "stdout",
     "output_type": "stream",
     "text": [
      "[[1. 1. 1. 1. 1.]\n",
      " [1. 1. 1. 1. 1.]\n",
      " [1. 1. 1. 1. 1.]\n",
      " [1. 1. 1. 1. 1.]\n",
      " [1. 1. 1. 1. 1.]]\n"
     ]
    }
   ],
   "source": [
    "mat2 = np.ones([5,5])\n",
    "print(mat2)"
   ]
  },
  {
   "cell_type": "markdown",
   "metadata": {},
   "source": [
    "####  **Lệnh: mat3 = mat1 + 2*mat2**\n",
    "\n",
    "\\begin{equation}\n",
    "    \\text{mat3 = } \n",
    "    \\begin{pmatrix}\n",
    "        2 & 2 & 2 & 2 & 2\\\\\n",
    "        2 & 2 & 2 & 2 & 2\\\\\n",
    "        2 & 2 & 2 & 2 & 2\\\\\n",
    "        2 & 2 & 2 & 2 & 2\\\\\n",
    "        2 & 2 & 2 & 2 & 2\\\\\n",
    "    \\end{pmatrix}\n",
    "\\end{equation}"
   ]
  },
  {
   "cell_type": "code",
   "execution_count": 112,
   "metadata": {},
   "outputs": [
    {
     "name": "stdout",
     "output_type": "stream",
     "text": [
      "[[2. 2. 2. 2. 2.]\n",
      " [2. 2. 2. 2. 2.]\n",
      " [2. 2. 2. 2. 2.]\n",
      " [2. 2. 2. 2. 2.]\n",
      " [2. 2. 2. 2. 2.]]\n"
     ]
    }
   ],
   "source": [
    "mat3 = mat1 + 2* mat2\n",
    "print(mat3)"
   ]
  },
  {
   "cell_type": "markdown",
   "metadata": {},
   "source": [
    "#### **Lệnh: mat4 = mat3**\n",
    "\n",
    "#### **Lệnh: mat3[3][2] = 10**\n",
    "\n",
    "\\begin{equation}\n",
    "    \\text{mat3 =}\n",
    "    \\begin{pmatrix}\n",
    "        2 & 2 & 2 & 2 & 2\\\\\n",
    "        2 & 2 & 2 & 2 & 2\\\\\n",
    "        2 & 2 & 2 & 2 & 2\\\\\n",
    "        2 & 2 & 10 & 2 & 2\\\\\n",
    "        2 & 2 & 2 & 2 & 2\\\\\n",
    "    \\end{pmatrix}\n",
    "\\end{equation}\n",
    "\n",
    "\\begin{equation}\n",
    "    \\text{mat4 =} \n",
    "    \\begin{pmatrix}\n",
    "        2 & 2 & 2 & 2 & 2\\\\\n",
    "        2 & 2 & 2 & 2 & 2\\\\\n",
    "        2 & 2 & 2 & 2 & 2\\\\\n",
    "        2 & 2 & 10 & 2 & 2\\\\\n",
    "        2 & 2 & 2 & 2 & 2\\\\\n",
    "    \\end{pmatrix}\n",
    "\\end{equation}\n",
    "\n",
    "**Vậy mat3 thay đổi thì mat4 cũng thay đổi theo**"
   ]
  },
  {
   "cell_type": "code",
   "execution_count": 113,
   "metadata": {},
   "outputs": [
    {
     "name": "stdout",
     "output_type": "stream",
     "text": [
      "[[ 2.  2.  2.  2.  2.]\n",
      " [ 2.  2.  2.  2.  2.]\n",
      " [ 2.  2.  2.  2.  2.]\n",
      " [ 2.  2. 10.  2.  2.]\n",
      " [ 2.  2.  2.  2.  2.]]\n",
      "\n",
      "[[ 2.  2.  2.  2.  2.]\n",
      " [ 2.  2.  2.  2.  2.]\n",
      " [ 2.  2.  2.  2.  2.]\n",
      " [ 2.  2. 10.  2.  2.]\n",
      " [ 2.  2.  2.  2.  2.]]\n"
     ]
    }
   ],
   "source": [
    "mat4 = mat3\n",
    "mat3[3][2] = 10\n",
    "print(mat4)\n",
    "print()\n",
    "print(mat4)"
   ]
  },
  {
   "cell_type": "markdown",
   "metadata": {},
   "source": [
    "#### **Lệnh: mat5 = np.copy(mat3)**\n",
    "\n",
    "####  **Lệnh: mat3[3][2] = 10**\n",
    "\n",
    "\\begin{equation}\n",
    "    \\text{mat3 =} \n",
    "    \\begin{pmatrix}\n",
    "        2 & 2 & 2 & 2 & 2\\\\\n",
    "        2 & 2 & 2 & 2 & 2\\\\\n",
    "        2 & 2 & 2 & 2 & 2\\\\\n",
    "        2 & 2 & 10 & 2 & 2\\\\\n",
    "        2 & 2 & 2 & 2 & 2\\\\\n",
    "    \\end{pmatrix}\n",
    "\\end{equation}\n",
    "\n",
    "\\begin{equation}\n",
    "    \\text{mat4 =} \n",
    "    \\begin{pmatrix}\n",
    "        2 & 2 & 2 & 2 & 2\\\\\n",
    "        2 & 2 & 2 & 2 & 2\\\\\n",
    "        2 & 2 & 2 & 2 & 2\\\\\n",
    "        2 & 2 & 10 & 2 & 2\\\\\n",
    "        2 & 2 & 2 & 2 & 2\\\\\n",
    "    \\end{pmatrix}\n",
    "\\end{equation}\n",
    "\n",
    "\\begin{equation}\n",
    "    \\text{mat5 =}\n",
    "    \\begin{pmatrix}\n",
    "        2 & 2 & 2 & 2 & 2\\\\\n",
    "        2 & 2 & 2 & 2 & 2\\\\\n",
    "        2 & 2 & 2 & 2 & 2\\\\\n",
    "        2 & 2 & 2 & 2 & 2\\\\\n",
    "        2 & 2 & 2 & 2 & 2\\\\\n",
    "    \\end{pmatrix}\n",
    "\\end{equation}\n",
    "\n",
    "\n",
    " **Vậy mat3 thay đổi  thì chỉ có mat4 thay đổi còn mat5 không thay đổi.**"
   ]
  },
  {
   "cell_type": "code",
   "execution_count": 114,
   "metadata": {},
   "outputs": [
    {
     "name": "stdout",
     "output_type": "stream",
     "text": [
      "[[ 2.  2.  2.  2.  2.]\n",
      " [ 2.  2.  2.  2.  2.]\n",
      " [ 2.  2.  2.  2.  2.]\n",
      " [ 2.  2. 10.  2.  2.]\n",
      " [ 2.  2.  2.  2.  2.]]\n",
      "\n",
      "[[ 2.  2.  2.  2.  2.]\n",
      " [ 2.  2.  2.  2.  2.]\n",
      " [ 2.  2.  2.  2.  2.]\n",
      " [ 2.  2. 10.  2.  2.]\n",
      " [ 2.  2.  2.  2.  2.]]\n",
      "\n",
      "[[2. 2. 2. 2. 2.]\n",
      " [2. 2. 2. 2. 2.]\n",
      " [2. 2. 2. 2. 2.]\n",
      " [2. 2. 2. 2. 2.]\n",
      " [2. 2. 2. 2. 2.]]\n"
     ]
    }
   ],
   "source": [
    "mat3[3][2] = 2\n",
    "mat5 = np.copy(mat3)\n",
    "mat3[3][2] = 10\n",
    "print(mat3, mat4, mat5, sep = \"\\n\\n\")"
   ]
  },
  {
   "cell_type": "markdown",
   "metadata": {},
   "source": [
    "#### **Lệnh: mat6 = np.empty([4, 5])**\n",
    "\n",
    "\\begin{equation}\n",
    "    \\text{mat6 =} \n",
    "    \\begin{pmatrix}\n",
    "    9.01096911e-312 & 5.68175493e-322 & 0.00000000e+000 & 0.00000000e+000 &  9.34598924e-30\\\\\n",
    "    1.16095484e-0 & 8 2.87926253e-0 & 4 9.10434209e+2 &76 4.07177685e+2 & \n",
    "    1.29541836e+\\\\3    \n",
    "    1.17688986e &+136 6.74421134e &+217 3.99255467e &+252 1.00443548e & 55.90148570\\\\+    5\n",
    "    1.7653915 &6e+137 8.9316868 &9e+271 4.9813153 &6e+151 1.9492067 & 153\n",
    "    3.242499\\\\e-086\n",
    "    \\end{pmatrix}\n",
    "\\end{equation}"
   ]
  },
  {
   "cell_type": "code",
   "execution_count": 115,
   "metadata": {},
   "outputs": [
    {
     "name": "stdout",
     "output_type": "stream",
     "text": [
      "[[ 2.5  5.   7.5 10.  12.5]\n",
      " [15.  17.5 20.  22.5 25. ]\n",
      " [27.5 30.  32.5 35.  37.5]\n",
      " [40.  42.5 45.  47.5 50. ]]\n"
     ]
    }
   ],
   "source": [
    "mat6 = np.empty([4, 5])\n",
    "print(mat6)"
   ]
  },
  {
   "cell_type": "markdown",
   "metadata": {},
   "source": [
    "#### **Lệnh: mat7 = np.identity(4)**\n",
    "\n",
    "  \\begin{equation}\n",
    "    \\text{mat7 =} \n",
    "    \\begin{pmatrix}\n",
    "      1 & 0 & 0 & 0\\\\\n",
    "      0 & 1 & 0 & 0\\\\\n",
    "      0 & 0 & 1 & 0\\\\\n",
    "      0 & 0 & 0 & 1\\\\\n",
    "    \\end{pmatrix}\n",
    "\\end{equation}"
   ]
  },
  {
   "cell_type": "code",
   "execution_count": 116,
   "metadata": {},
   "outputs": [
    {
     "name": "stdout",
     "output_type": "stream",
     "text": [
      "[[1. 0. 0. 0.]\n",
      " [0. 1. 0. 0.]\n",
      " [0. 0. 1. 0.]\n",
      " [0. 0. 0. 1.]]\n"
     ]
    }
   ],
   "source": [
    "mat7 = np.identity(4)\n",
    "print(mat7)"
   ]
  },
  {
   "cell_type": "markdown",
   "metadata": {},
   "source": [
    "### **Lệnh: mat8 = np.random.random([4,5])**\n",
    "\n",
    "\n",
    "\\begin{equation}\n",
    "    \\text{mat8 =} \n",
    "    \\begin{pmatrix}\n",
    "        0.39028529 & 0.75540465 & 0.01568219 & 0.29453656 & 0.91118005\\\\\n",
    "        0.03844021 & 0.51781229 & 0.97992382 & 0.12070719 & 0.35404779\\\\\n",
    "        0.07206803 & 0.84809791 & 0.49324525 & 0.92903231 & 0.81489341\\\\\n",
    "        0.78460077 & 0.44073672 & 0.24756567 & 0.11936058 & 0.7039666\\\\\n",
    "    \\end{pmatrix}\n",
    "\\end{equation}"
   ]
  },
  {
   "cell_type": "code",
   "execution_count": 117,
   "metadata": {},
   "outputs": [
    {
     "name": "stdout",
     "output_type": "stream",
     "text": [
      "[[0.24912259 0.02486452 0.76978406 0.02594833 0.77836724]\n",
      " [0.92153457 0.46816985 0.51938972 0.16311615 0.94469691]\n",
      " [0.02323648 0.93857405 0.6871122  0.07588489 0.34693259]\n",
      " [0.09626164 0.11322168 0.66260705 0.46870439 0.19635055]]\n"
     ]
    }
   ],
   "source": [
    "# mat8 = np.rand([4,5])\n",
    "mat8 = np.random.random([4,5])\n",
    "print(mat8)"
   ]
  },
  {
   "cell_type": "markdown",
   "metadata": {},
   "source": [
    "# **2. Bài tập về nhà**"
   ]
  },
  {
   "cell_type": "markdown",
   "metadata": {},
   "source": [
    "### **Bài 1** \n",
    "- `Điểm môn học của một nhóm SV được cho như bên dưới:`\n",
    "\n",
    "| Sinh Viên| BT cá nhân | Báo cáo | Giữa kỳ | Cuối Kỳ |\n",
    "|:--------:|:----------:|:-------:|:-------:|:-------:|\n",
    "|     A    |      7     |    8    |    9    |    5    |\n",
    "|     B    |      8     |    7    |    4    |    6    |\n",
    "|     C    |      7     |    5    |    8    |    6    |\n",
    "|     D    |      6     |    8    |    5    |    4    |\n",
    "|     E    |      9     |    9    |    8    |    7    |\n",
    "|     F    |     10     |    8    |    9    |    8    |\n",
    "\n",
    "- `Tỷ lệ % điểm:`\n",
    "\n",
    "| BT cá nhân | 10% |\n",
    "|:---:|:---:|\n",
    "| Báo cáo    | 20% |\n",
    "| Giữ kỳ     | 30% |\n",
    "| Cuối kỳ    | 40% |\n"
   ]
  },
  {
   "cell_type": "code",
   "execution_count": 118,
   "metadata": {},
   "outputs": [
    {
     "name": "stdout",
     "output_type": "stream",
     "text": [
      "Sinh viên thứ 1 có điểm là 7.0 => Đạt\n",
      "Sinh viên thứ 2 có điểm là 5.8 => Đạt\n",
      "Sinh viên thứ 3 có điểm là 6.5 => Đạt\n",
      "Sinh viên thứ 5 có điểm là 5.3 => Đạt\n",
      "Sinh viên thứ 6 có điểm là 7.9 => Đạt\n",
      "Sinh viên thứ 7 có điểm là 8.5 => Đạt\n"
     ]
    }
   ],
   "source": [
    "def diemTB(a, b, c, d):\n",
    "     return a * 0.1 + b * 0.2 + c * 0.3 + d * 0.4\n",
    "diemSV = np.array([[7, 8, 9, 5],\n",
    "                         [8, 7, 4, 6],\n",
    "                         [7, 5, 8, 6],\n",
    "                         [6, 8, 5, 4],\n",
    "                         [9, 9, 8, 7],\n",
    "                         [10, 8, 9, 8]])\n",
    "\n",
    "tenSV = np.array(['1', '2', '3', '5', '6', '7'])\n",
    "for i in range(6):\n",
    "    res = diemTB(*diemSV[i])\n",
    "    if res >= 5.0:\n",
    "        print(f\"Sinh viên thứ {tenSV[i]} có điểm là {round(res, 3)} => Đạt\")\n",
    "    else:\n",
    "        print(f\"Sinh viên thứ {tenSV[i]} có điểm là {round(res, 3)} => Không Đạt\")"
   ]
  },
  {
   "cell_type": "markdown",
   "metadata": {},
   "source": [
    "### **Bài 2**\n",
    "Sinh ngẫu nhiên ra 2 ma trận kích thước 3 x 3 và có các phần từ nguyên từ 0 đến 10:\n",
    "\n",
    "- a) Tính tổng phần tử của mỗi ma trận\n",
    "\n",
    "- b) So sánh norm của vector hàng 1 và vector hàng 3 của hai ma trận\n",
    "\n",
    "- c) Tìm ma trận C, D, E là tổng, hiệu, tích, của hai ma trận trên\n",
    "\n",
    "`gợi ý`:  sử dụng lệnh np.randoom.radint(?, size = (?, ?))"
   ]
  },
  {
   "cell_type": "code",
   "execution_count": 119,
   "metadata": {},
   "outputs": [
    {
     "name": "stdout",
     "output_type": "stream",
     "text": [
      "[[6 9 4]\n",
      " [2 7 2]\n",
      " [7 6 0]]\n",
      "\n",
      "[[9 6 6]\n",
      " [8 3 2]\n",
      " [6 9 5]]\n"
     ]
    }
   ],
   "source": [
    "Mat1 = np.random.randint(0,10,size=(3,3))\n",
    "Mat2 = np.random.randint(0,10,size=(3,3))\n",
    "print(Mat1)\n",
    "print()\n",
    "print(Mat2)"
   ]
  },
  {
   "cell_type": "markdown",
   "metadata": {},
   "source": [
    "- `a) tính tổng các phần tử của mỗi ma trận`"
   ]
  },
  {
   "cell_type": "code",
   "execution_count": 120,
   "metadata": {},
   "outputs": [
    {
     "name": "stdout",
     "output_type": "stream",
     "text": [
      "Tổng các phần tử trong mat1 là: 43\n",
      "Tổng các phần tử trong mat1 là: 54\n"
     ]
    }
   ],
   "source": [
    "def sumMatrix(list):\n",
    "    tong = 0\n",
    "    for i in list:\n",
    "        tong += i\n",
    "    return sum(tong)\n",
    "sum1= sumMatrix(Mat1)\n",
    "sum2= sumMatrix(Mat2)\n",
    "print(f\"Tổng các phần tử trong mat1 là: {sum1}\")\n",
    "print(f\"Tổng các phần tử trong mat1 là: {sum2}\")"
   ]
  },
  {
   "cell_type": "markdown",
   "metadata": {},
   "source": [
    "- `b) So sánh norm của vector hàng 1 và vector hàng 3 của hai ma trận`"
   ]
  },
  {
   "cell_type": "code",
   "execution_count": 121,
   "metadata": {},
   "outputs": [
    {
     "name": "stdout",
     "output_type": "stream",
     "text": [
      "Norm của vector hàng 1 của matrix1 là: 11.532562594670797\n",
      "Norm của vector hàng 3 của matrix1 là: 9.219544457292887\n",
      "Norm của vector hàng 1 của matrix2 là: 12.36931687685298\n",
      "Norm của vector hàng 3 của matrix2 là: 11.916375287812984\n",
      "Kết quả so sánh mat1\n",
      "Norm của vector hàng 1 lớn hơn norm vector hàng 3\n",
      "Kết quả so sánh mat2\n",
      "Norm của vector hàng 1 lớn hơn norm vector hàng 3\n"
     ]
    }
   ],
   "source": [
    "normRow_11 = np.linalg.norm(Mat1[0])\n",
    "normRow_13 = np.linalg.norm(Mat1[2])\n",
    "normRow_21 = np.linalg.norm(Mat2[0])\n",
    "normRow_23 = np.linalg.norm(Mat2[2])\n",
    "print(f\"Norm của vector hàng 1 của matrix1 là: {normRow_11}\")\n",
    "print(f\"Norm của vector hàng 3 của matrix1 là: {normRow_13}\")\n",
    "print(f\"Norm của vector hàng 1 của matrix2 là: {normRow_21}\")\n",
    "print(f\"Norm của vector hàng 3 của matrix2 là: {normRow_23}\")\n",
    "\n",
    "# Ham so sanh\n",
    "def compare(a,b):\n",
    "    if a > b:\n",
    "        print(\"Norm của vector hàng 1 lớn hơn norm vector hàng 3\")\n",
    "    elif a == b:\n",
    "        print(\"Norm của vector hàng 1 bằng norm vector hàng 3\")\n",
    "    elif a < b:\n",
    "        print(\"Norm của vector hàng 1 nhỏ hơn norm vector hàng 3\")\n",
    "print(\"Kết quả so sánh mat1\")\n",
    "compare(normRow_11,normRow_13)\n",
    "print(\"Kết quả so sánh mat2\")\n",
    "compare(normRow_21,normRow_23)"
   ]
  },
  {
   "cell_type": "markdown",
   "metadata": {},
   "source": [
    "- `c) Tìm ma trận C, D, E là tổng, hiệu, tích, của hai ma trận trên`"
   ]
  },
  {
   "cell_type": "code",
   "execution_count": 122,
   "metadata": {},
   "outputs": [
    {
     "name": "stdout",
     "output_type": "stream",
     "text": [
      "Tổng của Matrix1 và Mtrix2 là:\n",
      "\n",
      "[[15 15 10]\n",
      " [10 10  4]\n",
      " [13 15  5]]\n",
      "\n",
      "Hiệu cua Matrix1 và Matrix2 là:\n",
      "\n",
      "[[-3  3 -2]\n",
      " [-6  4  0]\n",
      " [ 1 -3 -5]]\n",
      "\n",
      "Tích của Matrix1 và Matrix2 là:\n",
      "\n",
      "[[150  99  74]\n",
      " [ 86  51  36]\n",
      " [111  60  54]]\n"
     ]
    }
   ],
   "source": [
    "print(f\"Tổng của Matrix1 và Mtrix2 là:\")\n",
    "print()\n",
    "print(Mat1+Mat2)\n",
    "print ()\n",
    "print(f\"Hiệu cua Matrix1 và Matrix2 là:\")\n",
    "print()\n",
    "print(Mat1-Mat2)\n",
    "print()\n",
    "print(f\"Tích của Matrix1 và Matrix2 là:\")\n",
    "print()\n",
    "print(Mat1.dot(Mat2))"
   ]
  },
  {
   "cell_type": "markdown",
   "metadata": {},
   "source": [
    "## **Bài Tập 3** \n",
    "Hãy dùng lệnh để sinh ra vector độ dài 21 với các phần tử từ a đến b nào đó. Chẳng hạn: \n",
    "\n",
    "a = 0, b = 100 hoặc a = 10.5, b = 50.\n",
    "\n",
    "- a) Dùng lệnh split, chia nhỏ vector kia ra thành 3 vector con, đặt là u, v, w.\n",
    "\n",
    "- b) Tính u*v và v.dot(w)\n",
    "\n",
    "- c) Tính shape của u trước và sau khi transpose, nhận xét.\n",
    "\n",
    "*Gợi ý: lệnh np.linspace(a, b, c) với a, b là các số thực và c là số nguyên dương cho biết \n",
    "số phần tử cách đều nhau trong [a;b]*"
   ]
  },
  {
   "cell_type": "code",
   "execution_count": 123,
   "metadata": {},
   "outputs": [
    {
     "name": "stdout",
     "output_type": "stream",
     "text": [
      "[ 0.   2.5  5.   7.5 10.  12.5 15.  17.5 20.  22.5 25.  27.5 30.  32.5\n",
      " 35.  37.5 40.  42.5 45.  47.5 50. ]\n"
     ]
    }
   ],
   "source": [
    "vector = np.linspace(0,50,21)\n",
    "print(vector)"
   ]
  },
  {
   "cell_type": "markdown",
   "metadata": {},
   "source": [
    "`a) Dùng lệnh split, chia nhỏ vector kia ra thành 3 vector con, đặt là u, v, w.`"
   ]
  },
  {
   "cell_type": "code",
   "execution_count": 1,
   "metadata": {},
   "outputs": [
    {
     "ename": "NameError",
     "evalue": "name 'np' is not defined",
     "output_type": "error",
     "traceback": [
      "\u001b[1;31m---------------------------------------------------------------------------\u001b[0m",
      "\u001b[1;31mNameError\u001b[0m                                 Traceback (most recent call last)",
      "Cell \u001b[1;32mIn[1], line 1\u001b[0m\n\u001b[1;32m----> 1\u001b[0m u , v, w \u001b[38;5;241m=\u001b[39m \u001b[43mnp\u001b[49m\u001b[38;5;241m.\u001b[39msplit(vector,[\u001b[38;5;241m7\u001b[39m,\u001b[38;5;241m14\u001b[39m])\n\u001b[0;32m      2\u001b[0m \u001b[38;5;28mprint\u001b[39m(u)\n\u001b[0;32m      3\u001b[0m \u001b[38;5;28mprint\u001b[39m(v)\n",
      "\u001b[1;31mNameError\u001b[0m: name 'np' is not defined"
     ]
    }
   ],
   "source": [
    "u , v, w = np.split(vector,[7,14])\n",
    "print(u)\n",
    "print(v)\n",
    "print(w)"
   ]
  },
  {
   "cell_type": "markdown",
   "metadata": {},
   "source": [
    "`b) Tính u*v và v.dot(w)`"
   ]
  },
  {
   "cell_type": "code",
   "execution_count": 125,
   "metadata": {},
   "outputs": [
    {
     "name": "stdout",
     "output_type": "stream",
     "text": [
      "Kết quả  u*v là: \n",
      "[  0.   50.  112.5 187.5 275.  375.  487.5]\n",
      "\n",
      "Kết quả của v.dot(w) là: \n",
      "7612.5\n"
     ]
    }
   ],
   "source": [
    "print(\"Kết quả  u*v là: \")\n",
    "print(u*v)\n",
    "print()\n",
    "print(\"Kết quả của v.dot(w) là: \")\n",
    "print(v.dot(w))"
   ]
  },
  {
   "cell_type": "markdown",
   "metadata": {},
   "source": [
    "`c)Tính shape của u trước và sau khi transpose, nhận xét.`"
   ]
  },
  {
   "cell_type": "code",
   "execution_count": 126,
   "metadata": {},
   "outputs": [
    {
     "name": "stdout",
     "output_type": "stream",
     "text": [
      "Shape của u trước khi transpose là:  (7,)\n",
      "Shape của u sau khi transpose là:  (7, 1)\n"
     ]
    }
   ],
   "source": [
    "print(\"Shape của u trước khi transpose là: \",u.shape)\n",
    "u1 = u.reshape((u.shape[0], 1))\n",
    "print(\"Shape của u sau khi transpose là: \",u1.shape)\n"
   ]
  },
  {
   "cell_type": "markdown",
   "metadata": {},
   "source": [
    "=> vậy trước đi transpose, u kích thước là 7 tức là 1 dòng 7 cột. Sau khi transpose (chuyển vị) thì vector u có kích thước là (7,1) tức 7 dòng 1 cột"
   ]
  }
 ],
 "metadata": {
  "kernelspec": {
   "display_name": "Python 3 (ipykernel)",
   "language": "python",
   "name": "python3"
  },
  "language_info": {
   "codemirror_mode": {
    "name": "ipython",
    "version": 3
   },
   "file_extension": ".py",
   "mimetype": "text/x-python",
   "name": "python",
   "nbconvert_exporter": "python",
   "pygments_lexer": "ipython3",
   "version": "3.12.1"
  }
 },
 "nbformat": 4,
 "nbformat_minor": 4
}
