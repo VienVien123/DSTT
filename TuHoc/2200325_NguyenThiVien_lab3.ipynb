{
 "cells": [
  {
   "cell_type": "code",
   "execution_count": 2,
   "metadata": {},
   "outputs": [],
   "source": [
    "from scipy import linalg\n",
    "import numpy as np \n",
    "import math as m \n"
   ]
  },
  {
   "cell_type": "markdown",
   "metadata": {},
   "source": [
    "# **BÀI TẬP MINH HOẠ**\n",
    "Ba ông Cảnh, Tùng, Hiếu dự định sẽ mua cuốn, bún, bánh ngọt và bánh mì với số lượng khác\n",
    "nhau. Được biết, 4 loại hàng hóa này được bày bán tại 2 siêu thị. Như vậy, mỗi người này nên\n",
    "chọn mua ở cửa hàng nào để tổng tiền là ít nhất. Giả định, nhu cầu của mỗi người và giá mỗi sản\n",
    "phẩm được cho ở mỗi cửa hàng như dưới đây:\n",
    "\n",
    "| |Cuốn|Bún|Bánh ngọt|Bánh mì|\n",
    "|:--|:---:|:---:|:---------:|:-------:|\n",
    "|Cảnh|6|5|3|1|\n",
    "|Tùng|3|6|2|2|\n",
    "|Hiếu|3|4|3|1|\n",
    "\n",
    "**Giá tại mỗi siêu thị**\n",
    "||S1|S2|\n",
    "|:--|:-----:|-----:|\n",
    "|Cuốn|1.50|1.00|\n",
    "|Bún|2.00|2.50|\n",
    "|Bánh ngọt|5.00|4.50|\n",
    "|Bánh mì|16.00|17.00|\n",
    "\n",
    "\n",
    "\n"
   ]
  },
  {
   "cell_type": "code",
   "execution_count": 11,
   "metadata": {},
   "outputs": [
    {
     "name": "stdout",
     "output_type": "stream",
     "text": [
      "[[6 5 3 1]\n",
      " [3 6 2 2]\n",
      " [3 4 3 1]]\n",
      "\n",
      "[[50.  49. ]\n",
      " [58.5 61. ]\n",
      " [43.5 43.5]]\n"
     ]
    }
   ],
   "source": [
    "a= np.matrix([[6,5,3,1],[3,6,2,2],[3,4,3,1]])\n",
    "b= np.matrix([[1.50,1.00],[2.00,2.50],[5.00,4.50],[16.00,17.00]])\n",
    "print(a)\n",
    "print()\n",
    "c = a@b\n",
    "print(c)"
   ]
  },
  {
   "cell_type": "code",
   "execution_count": 17,
   "metadata": {},
   "outputs": [
    {
     "name": "stdout",
     "output_type": "stream",
     "text": [
      "Ma trận khả nghịch:\n",
      "[[ 9  9  9]\n",
      " [ 6 -5  9]\n",
      " [-6  1  1]]\n",
      "[[ 81  79 233]]\n"
     ]
    }
   ],
   "source": [
    "import numpy as np\n",
    "\n",
    "def generate_invertible_matrix(n):\n",
    "    while True:\n",
    "        # Tạo ma trận ngẫu nhiên\n",
    "        E = np.random.randint(-10, 10, size=(n, n))\n",
    "        \n",
    "        # Kiểm tra tính khả nghịch\n",
    "        if np.linalg.matrix_rank(E) == n:\n",
    "            return E\n",
    "\n",
    "# Kích thước ma trận\n",
    "n = 3\n",
    "\n",
    "# Tạo ma trận khả nghịch\n",
    "invertible_matrix = generate_invertible_matrix(n)\n",
    "\n",
    "print(\"Ma trận khả nghịch:\")\n",
    "print(invertible_matrix)\n",
    "\n",
    "a= np.matrix([13,11,17])\n",
    "c = a@invertible_matrix\n",
    "print(c)"
   ]
  },
  {
   "cell_type": "markdown",
   "metadata": {},
   "source": [
    "# **CÂU 1** \n",
    "\n",
    "a. Tự chọn một ma trận khả nghịch 3x3. Sinh viên chứng minh ma trận đó khả nghịch (tồn\n",
    "tại ma trận nghịch đảo)\n",
    "\n",
    "b. Nhập họ và tên hoặc mã số sinh viên (của sinh viên).\n",
    "\n",
    "c. Mã hóa họ và tên hoặc mã số sinh viên (của sinh viên).\n",
    "\n",
    "d. Thực hiện giải mã với ma trận được chọn."
   ]
  },
  {
   "cell_type": "code",
   "execution_count": 2,
   "metadata": {},
   "outputs": [
    {
     "name": "stdout",
     "output_type": "stream",
     "text": [
      "ma tran kha nghich\n"
     ]
    }
   ],
   "source": [
    "import numpy as np\n",
    "#a\n",
    "a = np.matrix([[12, 5, 2], [-1, 0, 3], [1, -1, -4]])\n",
    "if np.linalg.det(a) ==0:\n",
    "    print(\"ma tran ko kha nghich\")\n",
    "else:\n",
    "    print(\"ma tran kha nghich\")\n",
    "\n"
   ]
  },
  {
   "cell_type": "code",
   "execution_count": 21,
   "metadata": {},
   "outputs": [
    {
     "name": "stdout",
     "output_type": "stream",
     "text": [
      "Mã chuỗi số tương ứng với từ 'VIEN' là:\n",
      "[32 17 13 21]\n",
      "mã chuỗi số tương ứng là: \n",
      "[27 12  8 16]\n"
     ]
    }
   ],
   "source": [
    "#b\n",
    "hoten =  input(\"nhập ho va ten: \")\n",
    "bangma = {' ': 5, 'A':6,'Ă':7,\n",
    "          'Â':8,'B':9,'C':10,'D':11,'Đ':12,'E':13,'Ê':14,'G':15,'H':16,\n",
    "          'I':17,'K':18,'L':19,'M':20,'N':21,'O':22,\n",
    "          'Ơ':23,'Ô':24,'P':25,'Q':26,'R':27,'S':28,\n",
    "          'T':29,'U':30,'Ư':31,'V':32,'X':33,'Y':34,\n",
    "          'SẮC':0,'`':1,'?':2,'~':3,'.':4}\n",
    "\n",
    "matrices = [np.array([bangma[char] for char in word]) for word in hoten.split()]\n",
    "# print(\"ma trận giả định là: \")\n",
    "\n",
    "# e = np.matrix([[1,-2,2],[-1,1,3],[1,-1,-4]])\n",
    "for index, matrix in enumerate(matrices):\n",
    "    print(\"Mã chuỗi số tương ứng với từ '{}' là:\".format(hoten.split()[index]))\n",
    "    print(matrix)\n",
    "    print(\"mã chuỗi số tương ứng là: \")\n",
    "    matrix-=5\n",
    "    print(matrix)\n",
    "    encoded_matrix = np.matmul(matrix, e)\n",
    "    print(\"Mã hóa chuỗi là:\")\n",
    "    print(encoded_matrix)\n",
    "    \n",
    "    "
   ]
  },
  {
   "cell_type": "markdown",
   "metadata": {},
   "source": [
    "# **CÂU 2**"
   ]
  },
  {
   "cell_type": "code",
   "execution_count": 30,
   "metadata": {},
   "outputs": [
    {
     "name": "stdout",
     "output_type": "stream",
     "text": [
      "Circumference = 176.625\n"
     ]
    }
   ],
   "source": [
    "r = float (input())\n",
    "print (\"Circumference =\", (r*r)*3.14)"
   ]
  },
  {
   "cell_type": "code",
   "execution_count": null,
   "metadata": {},
   "outputs": [],
   "source": []
  }
 ],
 "metadata": {
  "kernelspec": {
   "display_name": "Python 3",
   "language": "python",
   "name": "python3"
  },
  "language_info": {
   "codemirror_mode": {
    "name": "ipython",
    "version": 3
   },
   "file_extension": ".py",
   "mimetype": "text/x-python",
   "name": "python",
   "nbconvert_exporter": "python",
   "pygments_lexer": "ipython3",
   "version": "3.12.1"
  }
 },
 "nbformat": 4,
 "nbformat_minor": 2
}
