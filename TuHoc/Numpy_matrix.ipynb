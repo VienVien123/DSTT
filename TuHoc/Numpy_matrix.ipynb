{
 "cells": [
  {
   "cell_type": "code",
   "execution_count": 2,
   "metadata": {},
   "outputs": [],
   "source": [
    "import numpy as np \n"
   ]
  },
  {
   "cell_type": "code",
   "execution_count": 4,
   "metadata": {},
   "outputs": [
    {
     "name": "stdout",
     "output_type": "stream",
     "text": [
      "<class 'numpy.ndarray'>\n",
      "2\n"
     ]
    }
   ],
   "source": [
    "#tạo 1 ma trận\n",
    "A = np.array([(1,2,3),(4,5,6),(6,7,8)])\n",
    "\n",
    "#in ra kiểu dữ liệu đó là gì \n",
    "print (type(A))\n",
    "\n",
    "#xem số chiều ma trận\n",
    "print(A.ndim)\n",
    "#xem số phần tử thì .size\n",
    "#kiểu dữ liệu của từng phân ftuwr thì .dtype"
   ]
  },
  {
   "cell_type": "code",
   "execution_count": 11,
   "metadata": {},
   "outputs": [
    {
     "name": "stdout",
     "output_type": "stream",
     "text": [
      "[[-5 -5 -5]\n",
      " [-4 -4 -4]]\n",
      "\n",
      "[[ 7  9 11]\n",
      " [12 14 16]]\n",
      "[[1 4]\n",
      " [2 5]\n",
      " [3 6]]\n"
     ]
    }
   ],
   "source": [
    "A= np.array([(1,2,3),(4,5,6)])\n",
    "B=np.array([(6,7,8),(8,9,10)])\n",
    "print(np.subtract(A,B)) #trừ\n",
    "print()\n",
    "print(np.add(A,B)) #cong\n",
    "\n",
    "#nhân \n",
    "#print(np.dot(A,B))\n",
    "\n",
    "#chuyển vị\n",
    "print(A.transpose())"
   ]
  },
  {
   "cell_type": "code",
   "execution_count": null,
   "metadata": {},
   "outputs": [],
   "source": []
  }
 ],
 "metadata": {
  "kernelspec": {
   "display_name": "Python 3",
   "language": "python",
   "name": "python3"
  },
  "language_info": {
   "codemirror_mode": {
    "name": "ipython",
    "version": 3
   },
   "file_extension": ".py",
   "mimetype": "text/x-python",
   "name": "python",
   "nbconvert_exporter": "python",
   "pygments_lexer": "ipython3",
   "version": "3.12.1"
  }
 },
 "nbformat": 4,
 "nbformat_minor": 2
}
