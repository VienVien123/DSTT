{
 "cells": [
  {
   "cell_type": "markdown",
   "metadata": {},
   "source": [
    "# BÀI TẬP CHƯƠNG 2"
   ]
  },
  {
   "cell_type": "markdown",
   "metadata": {},
   "source": [
    "### ***Câu 1: Hãy sử dụng numpy để giải các phương trình sau:***"
   ]
  },
  {
   "cell_type": "markdown",
   "metadata": {},
   "source": [
    "***Problem1: Find the point of intersection of the lines x-y=-2 and 2x+3y=6 in $\\mathbb{R}^2$***\n",
    "$$\\begin{align}\\begin{cases} x-y=-2 \\\\ 2x+3y=6 \\end{cases}\\end{align}$$\n",
    "$KQ: \\begin{align}\\begin{cases} x=0 \\\\ y=2 \\end{cases}\\end{align}$"
   ]
  },
  {
   "cell_type": "code",
   "execution_count": 5,
   "metadata": {},
   "outputs": [
    {
     "name": "stdout",
     "output_type": "stream",
     "text": [
      "[[0.]\n",
      " [2.]]\n"
     ]
    }
   ],
   "source": [
    "import numpy as np\n",
    "matA = np.matrix([[1,-1],[2,3]])\n",
    "matB = np.matrix([[-2],[6]])\n",
    "matC = np.linalg.solve(matA,matB)\n",
    "print(matC)"
   ]
  },
  {
   "cell_type": "markdown",
   "metadata": {},
   "source": [
    "***Problem2: Find the point of intersection of the planes x-y=2,2x-y-z=3 and x+y+z=6 in $\\mathbb{R}^3$***\n",
    "$$\\begin{align}\\begin{cases} x-y=2 \\\\ 2x-y-z=3 \\\\ x+y+z=6 \\end{cases}\\end{align}$$\n",
    "$KQ: \\begin{align}\\begin{cases} x=3\\\\ y=1 \\\\ z=2 \\end{cases}\\end{align}$"
   ]
  },
  {
   "cell_type": "code",
   "execution_count": 9,
   "metadata": {},
   "outputs": [
    {
     "name": "stdout",
     "output_type": "stream",
     "text": [
      "[[3.]\n",
      " [1.]\n",
      " [2.]]\n"
     ]
    }
   ],
   "source": [
    "import numpy as np\n",
    "matA = np.matrix([[1,-1,0],[2,-1,-1],[1,1,1]])\n",
    "matB = np.matrix([[2],[3],[6]])\n",
    "matC = np.linalg.solve(matA,matB)\n",
    "print(matC)"
   ]
  },
  {
   "cell_type": "markdown",
   "metadata": {},
   "source": [
    "***Problem3: Find a quadratic polynomial $p(x) = ax^2 +bx +c$ such that p(1) = 4, p(2) = 3, p(3) = 4***\n",
    "$$p(x) = x^2 - 4x + 7 $$"
   ]
  },
  {
   "cell_type": "code",
   "execution_count": 10,
   "metadata": {},
   "outputs": [
    {
     "name": "stdout",
     "output_type": "stream",
     "text": [
      "[[ 1.]\n",
      " [-4.]\n",
      " [ 7.]]\n"
     ]
    }
   ],
   "source": [
    "import numpy as np\n",
    "matA = np.matrix([[1,1,1],[4,2,1],[9,3,1]])\n",
    "matB = np.matrix([[4],[3],[4]])\n",
    "matC = np.linalg.solve(matA,matB)\n",
    "print(matC)"
   ]
  },
  {
   "cell_type": "markdown",
   "metadata": {},
   "source": [
    "***Problem4: Evaluate $\\int_{0}^{1}\\frac{x(x-3)}{(x-1)^2(x+2)}dx$***\n",
    "$$R(x) = \\frac{1}{9(x-1)} - \\frac{2}{3(x-1)^2} + \\frac{10}{9(x-2)}$$"
   ]
  },
  {
   "cell_type": "code",
   "execution_count": 27,
   "metadata": {},
   "outputs": [
    {
     "name": "stdout",
     "output_type": "stream",
     "text": [
      "[[-0.11111111]\n",
      " [-0.66666667]\n",
      " [ 1.11111111]]\n"
     ]
    }
   ],
   "source": [
    "import numpy as np\n",
    "from fractions import Fraction as f\n",
    "\n",
    "matA = np.matrix([[1, 0, 1], [1, 1, -2], [-2, 2, 1]])\n",
    "matB = np.matrix([[1], [-3], [0]])\n",
    "matC = np.linalg.solve(matA, matB)\n",
    "\n",
    "print(matC)"
   ]
  },
  {
   "cell_type": "markdown",
   "metadata": {},
   "source": [
    " ### ***Câu 2: Hãy viết các câu lệnh của sympy để giải các phương trình ở Câu 1***"
   ]
  },
  {
   "cell_type": "markdown",
   "metadata": {},
   "source": [
    "***Problem1: Find the point of intersection of the lines x-y=-2 and 2x+3y=6 in $\\mathbb{R}^2$***\n",
    "$$\\begin{align}\\begin{cases} x-y=-2 \\\\ 2x+3y=6 \\end{cases}\\end{align}$$\n",
    "$KQ: \\begin{align}\\begin{cases} x=0 \\\\ y=2 \\end{cases}\\end{align}$"
   ]
  },
  {
   "cell_type": "code",
   "execution_count": 30,
   "metadata": {},
   "outputs": [
    {
     "data": {
      "text/plain": [
       "{x: 0, y: 2}"
      ]
     },
     "execution_count": 30,
     "metadata": {},
     "output_type": "execute_result"
    }
   ],
   "source": [
    "import sympy as sp\n",
    "x = sp.Symbol('x')\n",
    "y = sp.Symbol('y')\n",
    "sp.solve([x-y+2,2*x+3*y-6],[x,y])"
   ]
  },
  {
   "cell_type": "markdown",
   "metadata": {},
   "source": [
    "***Problem2: Find the point of intersection of the planes x-y=2,2x-y-z=3 and x+y+z=6 in $\\mathbb{R}^3$***\n",
    "$$\\begin{align}\\begin{cases} x-y=2 \\\\ 2x-y-z=3 \\\\ x+y+z=6 \\end{cases}\\end{align}$$\n",
    "$KQ: \\begin{align}\\begin{cases} x=3\\\\ y=1 \\\\ z=2 \\end{cases}\\end{align}$"
   ]
  },
  {
   "cell_type": "code",
   "execution_count": 31,
   "metadata": {},
   "outputs": [
    {
     "data": {
      "text/plain": [
       "{x: 3, y: 1, z: 2}"
      ]
     },
     "execution_count": 31,
     "metadata": {},
     "output_type": "execute_result"
    }
   ],
   "source": [
    "import sympy as sp\n",
    "x = sp.Symbol('x')\n",
    "y = sp.Symbol('y')\n",
    "z = sp.Symbol('z')\n",
    "sp.solve([x-y-2,2*x-y-z-3,x+y+z-6],[x,y,z])"
   ]
  },
  {
   "cell_type": "markdown",
   "metadata": {},
   "source": [
    "***Problem3: Find a quadratic polynomial $p(x) = ax^2 +bx +c$ such that p(1) = 4, p(2) = 3, p(3) = 4***\n",
    "$$p(x) = x^2 - 4x + 7 $$"
   ]
  },
  {
   "cell_type": "code",
   "execution_count": 3,
   "metadata": {},
   "outputs": [
    {
     "data": {
      "text/plain": [
       "{x: 1, y: -4, z: 7}"
      ]
     },
     "execution_count": 3,
     "metadata": {},
     "output_type": "execute_result"
    }
   ],
   "source": [
    "import sympy as sp\n",
    "x = sp.Symbol('x')\n",
    "y = sp.Symbol('y')\n",
    "z = sp.Symbol('z')\n",
    "sp.solve([x+y+z-4, 4*x+2*y+z-3, 9*x+3*y+z-4],[x,y,z])"
   ]
  },
  {
   "cell_type": "markdown",
   "metadata": {},
   "source": [
    "***Problem4: Evaluate $\\int_{0}^{1}\\frac{x(x-3)}{(x-1)^2(x+2)}dx$***\n",
    "$$R(x) = \\frac{1}{9(x-1)} - \\frac{2}{3(x-1)^2} + \\frac{10}{9(x-2)}$$"
   ]
  },
  {
   "cell_type": "code",
   "execution_count": 4,
   "metadata": {},
   "outputs": [
    {
     "data": {
      "text/plain": [
       "{x: -1/9, y: -2/3, z: 10/9}"
      ]
     },
     "execution_count": 4,
     "metadata": {},
     "output_type": "execute_result"
    }
   ],
   "source": [
    "import sympy as sp\n",
    "a = sp.Symbol('x')\n",
    "b = sp.Symbol('y')\n",
    "c = sp.Symbol('z')\n",
    "sp.solve([x+z-1,x+y-2*z+3,-2*x+2*y+z],[x,y,z])"
   ]
  },
  {
   "cell_type": "markdown",
   "metadata": {},
   "source": [
    "#### ***Câu 3: Tính lũy thừa bậc k của ma trận $F_k = \\left (\\begin{matrix} 1& 1 \\\\ 1& 0 \\end{matrix}\\right)^n$ và chứng minh ma trận $𝑭_k$ chứa 3 phần tử của $𝐹𝑖𝑏𝑜_{k+1}, 𝐹𝑖𝑏𝑜_𝑘$ và $𝐹𝑖𝑏𝑜_{𝑘−1}$ của dãy Fibonacci (bắt đầu bằng 0 từ phần tử 0)***"
   ]
  },
  {
   "cell_type": "code",
   "execution_count": 1,
   "metadata": {},
   "outputs": [
    {
     "name": "stdout",
     "output_type": "stream",
     "text": [
      "ma tran chua 3 phan tu thuoc day fibonanci\n"
     ]
    }
   ],
   "source": [
    "import numpy as np\n",
    "\n",
    "def mat_pow_k (matA, k) :\n",
    "    matB = np.linalg.matrix_power(matA, k)\n",
    "    return matB\n",
    "\n",
    "def is_Fibo(a,b,c) :\n",
    "    if a+b==c or a+c==b or b+c==a:\n",
    "        return True\n",
    "\n",
    "k = int(input(\"nhap k: \"))\n",
    "matA = np.array([[1,1],[1,0]])\n",
    "matA_pow_k = mat_pow_k(matA,k)\n",
    "\n",
    "a = matA_pow_k[0][0]\n",
    "b = matA_pow_k[0][1]\n",
    "c = matA_pow_k[1][0]\n",
    "d = matA_pow_k[1][1]\n",
    "\n",
    "if is_Fibo(a,b,c) == True or is_Fibo(a,b,d) == True or is_Fibo(a,c,d) == True or is_Fibo(b,c,d) == True  :\n",
    "    print(\"ma tran chua 3 phan tu thuoc day fibonanci\")\n"
   ]
  },
  {
   "cell_type": "markdown",
   "metadata": {},
   "source": []
  }
 ],
 "metadata": {
  "kernelspec": {
   "display_name": "Python 3",
   "language": "python",
   "name": "python3"
  },
  "language_info": {
   "codemirror_mode": {
    "name": "ipython",
    "version": 3
   },
   "file_extension": ".py",
   "mimetype": "text/x-python",
   "name": "python",
   "nbconvert_exporter": "python",
   "pygments_lexer": "ipython3",
   "version": "3.12.1"
  }
 },
 "nbformat": 4,
 "nbformat_minor": 4
}
