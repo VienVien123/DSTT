{
 "cells": [
  {
   "cell_type": "markdown",
   "metadata": {
    "id": "GsccfSDERjBo"
   },
   "source": [
    "# ĐỀ KIỂM TRA THƯỜNG KỲ 1\n",
    "## Môn: Đại số tuyến tính tính toán\n",
    "## Ngày: 01/03/2024\n",
    "## Lớp: DHKHDL18A - Nhóm TH1 & TH2. Thời gian: 90 phút\n",
    "## Họ và Tên: Nguyễn Thị Viên\n",
    "## MSSV: 22003025"
   ]
  },
  {
   "cell_type": "markdown",
   "metadata": {},
   "source": [
    "**Câu 1.** (3 điểm) Cho hai ma trận $A$ và $B$ xác định như sau $$A=\\begin{bmatrix} 2 & 3 & -1\\\\0 & -3 & 1\\\\1&1&-1 \\end{bmatrix}, B = \\begin{bmatrix} 0 & 3 & -3\\\\-1 & 2 & 0\\\\-4&4&1 \\end{bmatrix}.$$"
   ]
  },
  {
   "cell_type": "markdown",
   "metadata": {},
   "source": [
    "a) Tính $AB$, $BA^T$ và $rank(AB)$.\n",
    "\n",
    "b) Ma trận $BA$ là ma trận suy biến hay không? Tại sao?\n",
    "\n",
    "c) Tìm tất cả các ma trận xác định dương $C$ cấp $3$ thoả mãn $BC=BAC^{2024}+C^T$."
   ]
  },
  {
   "cell_type": "code",
   "execution_count": 1,
   "metadata": {},
   "outputs": [],
   "source": [
    "import numpy as np "
   ]
  },
  {
   "cell_type": "code",
   "execution_count": 11,
   "metadata": {},
   "outputs": [
    {
     "name": "stdout",
     "output_type": "stream",
     "text": [
      "AB: [[ 1  8 -7]\n",
      " [-1 -2  1]\n",
      " [ 3  1 -4]]\n",
      "BA_T: [[ 12 -12   6]\n",
      " [  4  -6   1]\n",
      " [  3 -11  -1]]\n",
      "hạng: 3\n",
      "det BA: -36.0\n"
     ]
    }
   ],
   "source": [
    "# A\n",
    "A = np.matrix([[2,3,-1],[0,-3,1],[1,1,-1]])\n",
    "B= np.matrix([[0,3,-3],[-1,2,0],[-4,4,1]])\n",
    "\n",
    "AB= np.dot(A,B)\n",
    "print(f\"AB: {AB}\")\n",
    "\n",
    "BA_T= B@(A.T)\n",
    "print(f\"BA_T: {BA_T}\")\n",
    "# hạng\n",
    "rank_AB= np.linalg.matrix_rank(AB)\n",
    "print(f\"hạng: {rank_AB}\")\n",
    "\n",
    "# B\n",
    "det_BA= np.linalg.det(B@A)\n",
    "print(f\"det BA: {det_BA}\")\n",
    "\n"
   ]
  },
  {
   "cell_type": "markdown",
   "metadata": {},
   "source": [
    "## => vậy ma trận BA không suy biến vì đây là ma trận vuông và có định thức khác 0"
   ]
  },
  {
   "cell_type": "code",
   "execution_count": null,
   "metadata": {},
   "outputs": [],
   "source": [
    "# C\n",
    "\n"
   ]
  },
  {
   "cell_type": "markdown",
   "metadata": {},
   "source": [
    "**Câu 2.** (2 điểm) Một đoàn xe tải chở $290$ tấn xi măng cho một công trình xây đập thuỷ điện. Đoàn xe gồm $57$ chiếc gồm $3$ loại: xe chở $3$ tấn, xe chở $5$ tấn và xe chở $7.5$ tấn. Nếu dùng tất cả xe chở $7.5$ tấn chở ba chuyến thì được số xi măng bằng tổng số xi măng do xe $5$ tấn chở ba chuyến và xe $3$ tấn chở hai chuyến. \n",
    "\n",
    "a) Gọi $x_1,x_2,x_3$ lần lượt là số xe tải chở $3$, $5$ và $7.5$ tấn và đặt $X=\\begin{bmatrix} x_1 & x_2 & x_3 \\end{bmatrix}^T$. Mô hình hoá bài toán trên dưới dạng hệ phương trình tuyến tính $AX=b$, bằng cách tìm $A$ và $b$.\n",
    "\n",
    "b) Tính số xe mỗi loại bằng ít nhất hai cách.\n"
   ]
  },
  {
   "cell_type": "markdown",
   "metadata": {},
   "source": [
    "vì có ba loại xe nên ta có\n",
    "$$ x_1+x_2+x_3= 57 ~~(1) $$\n",
    "vì Đoàn xe gồm $57$ chiếc gồm $3$ loại: xe chở $3$ tấn, xe chở $5$ tấn và xe chở $7.5$ tấn nên ta có\n",
    "$$ 3x_1+5x_2+7.5x_3=290~~(2)$$\n",
    "vì dùng tất cả xe chở $7.5$ tấn chở ba chuyến thì được số xi măng bằng tổng số xi măng do xe $5$ tấn chở ba chuyến và xe $3$ tấn chở hai chuyến nên ta có:\n",
    "$$ 6x_1+15x_2+22.5x_3=0~~(3)$$\n",
    "từ (1)(2)(3) ta có hệ phương trình\n",
    "$$ \\begin{cases}\n",
    "    x_1&+&x_2&+&x_3&=& 57\\\\\n",
    "    3x_1&+&5x_2&+&7.5x_3&=&290\\\\\n",
    "    6x_1&+&15x_2&-&22.5x_3&=0\n",
    "    \\end{cases}$$\n",
    "\n",
    "Vậy hệ phương trình tuyến tính $AX=b$\n"
   ]
  },
  {
   "cell_type": "markdown",
   "metadata": {},
   "source": [
    "Vậy hệ phương trình tuyến tính $AX=b$\n",
    "$$ \\begin{bmatrix}\n",
    "    1&1&1\\\\\n",
    "    3&5&7.5\\\\\n",
    "    6&15&-22.5\n",
    "    \\end{bmatrix}\n",
    "\n",
    "    \\begin{bmatrix}\n",
    "        x_1\\\\\n",
    "        x_2\\\\\n",
    "        x_3\n",
    "    \\end{bmatrix}\n",
    "\n",
    "    =\n",
    "    \\begin{bmatrix}\n",
    "    57\\\\\n",
    "    290\\\\\n",
    "    0\n",
    "    \\end{bmatrix}\n",
    "    "
   ]
  },
  {
   "cell_type": "code",
   "execution_count": 8,
   "metadata": {},
   "outputs": [
    {
     "name": "stdout",
     "output_type": "stream",
     "text": [
      "[20. 19. 18.]\n",
      "[20. 19. 18.]\n"
     ]
    }
   ],
   "source": [
    "import numpy as np\n",
    "\n",
    "A1 = np.array([[1,1,1], [3,5,7.5], [6,15,-22.5]])\n",
    "b1 = np.array([57, 290, 0])\n",
    "# c1\n",
    "c=np.linalg.solve(A1, b1)\n",
    "print(c)\n",
    "# c2\n",
    "print(np.linalg.inv(A1)@b1)"
   ]
  },
  {
   "cell_type": "markdown",
   "metadata": {},
   "source": [
    "**Câu 3.** (3 điểm) Cho ma trận $A$ được xác định bởi $$A=\\begin{bmatrix} \n",
    "1 & 1 & 2\\\\\n",
    "2 & -1 & 1\\\\\n",
    "-2 & 4 & 1\n",
    "\\end{bmatrix}.$$\n",
    "Tìm hai ma trận $Q$ và $R$ thoả mãn $A=QR$, biết $Q$ là ma trận gồm các vector cột trực chuẩn và $R$ là ma trận tam giác trên khả nghịch. Sinh viên tính toán theo từng bước dưới đây và sau đó dùng thư viện thích hợp để kiểm tra lại."
   ]
  },
  {
   "cell_type": "markdown",
   "metadata": {},
   "source": [
    "**Bước 1.** Các vector cột của $A$ là:\n",
    "$$u_1 = [1,2,-2 ]^T, \\, u_2 = [ 1, -1,4 ]^T, \\, u_3 = [ 2,1,1 ]^T.$$"
   ]
  },
  {
   "cell_type": "markdown",
   "metadata": {},
   "source": [
    "**Bước 2.** Trực giao hóa họ các vector bằng thuật giải Gram-Schmidt (để thuận tiện, ta viết vector theo dòng)\n",
    "\n",
    "$$v_1 = u_1 = (1, 2, -2),$$\n",
    "$$\\left\\| v_1 \\right\\|^2 = 9 $$\n",
    "$$\\left\\langle u_2,v_1 \\right\\rangle = -9$$\n",
    "$$v_2 = u_2 - \\frac{\\left\\langle u_2,v_1 \\right\\rangle}{\\left\\| v_1 \\right\\|^2} v_1 = (2,1,2)$$\n",
    "$$\\left\\| v_2 \\right\\|^2 = 9 $$\n",
    "$$\\left\\langle u_3,v_1 \\right\\rangle = 2$$\n",
    "$$\\left\\langle u_3,v_2 \\right\\rangle = 7$$\n",
    "$$v_3 = u_3 - \\frac{\\left\\langle u_3,v_1 \\right\\rangle}{\\left\\| v_1 \\right\\|^2} v_1 - \\frac{\\left\\langle u_3,v_2 \\right\\rangle}{\\left\\| v_2 \\right\\|^2} v_2 =(\\frac{2}{9}, \\frac{-2}{9},\\frac{1}{9})$$\n",
    "$$\\left\\| v_3 \\right\\|^2 = \\frac{1}{9} $$\n",
    "Kết luận họ trực giao là:\n",
    "$$v_1 = (1,2,-2), v_2 = (2,1,2), v_3 = (\\frac{2}{9},\\frac{-2}{9},\\frac{1}{9}).$$"
   ]
  },
  {
   "cell_type": "markdown",
   "metadata": {},
   "source": [
    "**Bước 3.** Tìm ma trận $Q$: chuẩn hóa họ các vector ở trên, ta được\n",
    "$$q_1 = \\frac{v_1}{\\left\\| v_1 \\right\\|} = \\frac{1}{3}(1,2,-2)$$\n",
    "$$q_2 = \\frac{v_2}{\\left\\| v_2 \\right\\|} = \\frac{1}{3}(2,1,2)$$\n",
    "$$q_3 = \\frac{v_3}{\\left\\| v_3 \\right\\|} = \\frac{1}{3}(2,-2,1)$$\n",
    "Từ đó có ma trận $Q$ là:\n",
    "$$Q=\\left[ \\begin{matrix}\n",
    "   {{q}_{1}} & {{q}_{2}} & {{q}_{3}}  \\\\\n",
    "\\end{matrix} \\right]=\\left[ \\begin{matrix}\n",
    "   {\\frac{1}{3}} & {\\frac{2}{3}} & {\\frac{2}{3}}  \\\\\n",
    "   {\\frac{2}{3}} & {\\frac{1}{3}} & {\\frac{-2}{3}}  \\\\\n",
    "   {\\frac{-2}{3}} & {\\frac{2}{3}} & {\\frac{1}{3}}  \\\\\n",
    "\\end{matrix} \\right]$$"
   ]
  },
  {
   "cell_type": "markdown",
   "metadata": {},
   "source": [
    "**Bước 4.** Tìm ma trận $R$: ta tính các tích vô hướng sau đây\n",
    "$$\\left\\langle {{u}_{1}},{{q}_{1}} \\right\\rangle = -3 $$\n",
    "$$\\left\\langle {{u}_{2}},{{q}_{1}} \\right\\rangle = 3 $$\n",
    "$$\\left\\langle {{u}_{3}},{{q}_{1}} \\right\\rangle = \\frac{-2}{3}$$\n",
    "$$\\left\\langle {{u}_{2}},{{q}_{2}} \\right\\rangle = -3, $$\n",
    "$$\\left\\langle {{u}_{3}},{{q}_{2}} \\right\\rangle =\\frac{-7}{3}, $$\n",
    "$$\\left\\langle {{u}_{3}},{{q}_{3}} \\right\\rangle = \\frac{1}{3}, $$\n",
    "Từ đó ta có ma trận $R$ là:\n",
    "\n",
    "$$R=\\left[ \\begin{matrix}\n",
    "   \\left\\langle {{u}_{1}},{{q}_{1}} \\right\\rangle  & \\left\\langle {{u}_{2}},{{q}_{1}} \\right\\rangle  & \\left\\langle {{u}_{3}},{{q}_{1}} \\right\\rangle   \\\\\n",
    "   0 & \\left\\langle {{u}_{2}},{{q}_{2}} \\right\\rangle  & \\left\\langle {{u}_{3}},{{q}_{2}} \\right\\rangle   \\\\\n",
    "   0 & 0 & \\left\\langle {{u}_{3}},{{q}_{3}} \\right\\rangle   \\\\\n",
    "\\end{matrix} \\right]=\\left[ \\begin{matrix}\n",
    "   {1} & {1} & {2}  \\\\\n",
    "   {2} & {-1} & {1}  \\\\\n",
    "   {-2} & {4} & {1}  \\\\\n",
    "\\end{matrix} \\right]$$"
   ]
  },
  {
   "cell_type": "code",
   "execution_count": 3,
   "metadata": {},
   "outputs": [
    {
     "name": "stdout",
     "output_type": "stream",
     "text": [
      "[[-0.333333 -0.666667  0.666667]\n",
      " [-0.666667 -0.333333 -0.666667]\n",
      " [ 0.666667 -0.666667 -0.333333]]\n",
      "[[-3.        3.       -0.666667]\n",
      " [ 0.       -3.       -2.333333]\n",
      " [ 0.        0.        0.333333]]\n",
      "[[ 1.  1.  2.]\n",
      " [ 2. -1.  1.]\n",
      " [-2.  4.  1.]]\n"
     ]
    }
   ],
   "source": [
    "# Dùng thư viên thích hợp kiểm tra\n",
    "import numpy as np\n",
    "A = np.array([[1,1,2],[2,-1,1],[-2,4,1]])\n",
    "Q, R = np.linalg.qr(A)  \n",
    "print(np.round(Q,decimals = 6))\n",
    "print(np.round(R,decimals = 6))\n",
    "print(Q@R)"
   ]
  },
  {
   "cell_type": "markdown",
   "metadata": {},
   "source": [
    "**Câu 4.** (2 điểm) Cho $A$ là ma trận vuông cấp $2$ có hai giá trị riêng là $1$ và $-2$, với hai vector riêng tương ứng là $(1,0)$ và $(1,-1)$.\n",
    "\n",
    "a) Tìm $A^{2024}$.\n",
    "\n",
    "b) Tìm các giá trị riêng của $A^{2024}$."
   ]
  },
  {
   "cell_type": "markdown",
   "metadata": {},
   "source": [
    "## --------------------------------------- Hết --------------------------------------"
   ]
  },
  {
   "cell_type": "markdown",
   "metadata": {},
   "source": [
    "### Lưu ý: sinh viên không được sử dụng internet. Giám thị không giải thích gì thêm."
   ]
  }
 ],
 "metadata": {
  "colab": {
   "provenance": []
  },
  "kernelspec": {
   "display_name": "Python 3 (ipykernel)",
   "language": "python",
   "name": "python3"
  },
  "language_info": {
   "codemirror_mode": {
    "name": "ipython",
    "version": 3
   },
   "file_extension": ".py",
   "mimetype": "text/x-python",
   "name": "python",
   "nbconvert_exporter": "python",
   "pygments_lexer": "ipython3",
   "version": "3.12.1"
  }
 },
 "nbformat": 4,
 "nbformat_minor": 1
}
