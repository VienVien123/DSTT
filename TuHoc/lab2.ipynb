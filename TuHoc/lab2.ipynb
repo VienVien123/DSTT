{
 "cells": [
  {
   "cell_type": "markdown",
   "metadata": {},
   "source": [
    "# **XỬ LÝ VECTOR**\n"
   ]
  },
  {
   "cell_type": "code",
   "execution_count": 23,
   "metadata": {},
   "outputs": [],
   "source": [
    "import numpy as np \n",
    "from scipy import linalg, sparse\n"
   ]
  },
  {
   "cell_type": "code",
   "execution_count": 3,
   "metadata": {},
   "outputs": [
    {
     "data": {
      "text/plain": [
       "[30, 50, 70]"
      ]
     },
     "execution_count": 3,
     "metadata": {},
     "output_type": "execute_result"
    }
   ],
   "source": [
    "v = [3,5,7]\n",
    "def  scale (a,v):\n",
    "    return [a*vi for vi in v]\n",
    "scale (10,v)\n",
    "    "
   ]
  },
  {
   "cell_type": "code",
   "execution_count": 12,
   "metadata": {},
   "outputs": [
    {
     "data": {
      "text/plain": [
       "[5, 9, 13]"
      ]
     },
     "execution_count": 12,
     "metadata": {},
     "output_type": "execute_result"
    }
   ],
   "source": [
    "v = [3,5,7]\n",
    "w = [2,4,6]\n",
    "# def sumvetor (v,w):\n",
    "#     return [vi + wi for (vi, wi) in zip (v,w)]\n",
    "# sumvetor(v,w)\n",
    "\n",
    "def sumvectorr (v,w):\n",
    "    sum =[]\n",
    "    for i, j in zip (v,w):\n",
    "        sum_el= i + j\n",
    "        sum.append(sum_el)\n",
    "    return sum\n",
    "sumvectorr(v,w)\n"
   ]
  },
  {
   "cell_type": "code",
   "execution_count": 5,
   "metadata": {},
   "outputs": [
    {
     "data": {
      "text/plain": [
       "[6, 20, 42]"
      ]
     },
     "execution_count": 5,
     "metadata": {},
     "output_type": "execute_result"
    }
   ],
   "source": [
    "def dotvector (v,w):\n",
    "    return ([vi*wi for (vi,wi)in zip (v,w)])\n",
    "dotvector(v,w)"
   ]
  },
  {
   "cell_type": "code",
   "execution_count": 6,
   "metadata": {},
   "outputs": [
    {
     "data": {
      "text/plain": [
       "[4, 16, 36]"
      ]
     },
     "execution_count": 6,
     "metadata": {},
     "output_type": "execute_result"
    }
   ],
   "source": [
    "def lenvector(v):\n",
    "    return dotvector(v,v)\n",
    "lenvector(w)"
   ]
  },
  {
   "cell_type": "markdown",
   "metadata": {},
   "source": [
    "# **PHÂN LOẠI TUYẾN TÍNH**"
   ]
  },
  {
   "cell_type": "code",
   "execution_count": 14,
   "metadata": {},
   "outputs": [
    {
     "data": {
      "text/plain": [
       "array(['so am', 'so duong', 'so duong', 'so am', 'so duong', 'so am'],\n",
       "      dtype='<U8')"
      ]
     },
     "execution_count": 14,
     "metadata": {},
     "output_type": "execute_result"
    }
   ],
   "source": [
    "scores = np.array([-1,1,2,-3,5,-4])\n",
    "scores >=0\n",
    "np.select([scores >=0, scores<0],['so duong','so am'])"
   ]
  },
  {
   "cell_type": "code",
   "execution_count": 33,
   "metadata": {},
   "outputs": [
    {
     "name": "stdout",
     "output_type": "stream",
     "text": [
      "<class 'numpy.matrix'>\n",
      "[[0.63756963 0.87890117 0.31934021 0.57664371 0.0341211  0.17671853\n",
      "  0.47725595]\n",
      " [0.33545599 0.95257937 0.49401821 0.52008671 0.37413861 0.71401378\n",
      "  0.66177826]\n",
      " [0.81394759 0.76422049 0.40627168 0.61702804 0.60706089 0.60245296\n",
      "  0.87918802]\n",
      " [0.70088038 0.8065427  0.0771226  0.92363732 0.37605096 0.9202865\n",
      "  0.4444147 ]\n",
      " [0.9047717  0.06330177 0.88158841 0.19858074 0.83882126 0.16685706\n",
      "  0.00171257]]\n",
      "[[1.+5.j 0.+2.j 0.+3.j]\n",
      " [4.+0.j 5.+0.j 6.+0.j]]\n",
      "[[1.+5.j 0.+2.j 0.+3.j]\n",
      " [4.+0.j 5.+0.j 6.+0.j]]\n",
      "<built-in method transpose of matrix object at 0x00000291E8128250>\n"
     ]
    }
   ],
   "source": [
    "d = np.mat([[3,4],[5,6]])\n",
    "print(type(d))\n",
    "c=np.mat(np.random.random((5,7)))\n",
    "print(c)\n",
    "\n",
    "b = np.array([(1+5j,2j,3j),(4,5,6)])\n",
    "print(b)\n",
    "B = np.asmatrix(b)\n",
    "print(B)\n",
    "\n",
    "print (B.transpose)"
   ]
  },
  {
   "cell_type": "code",
   "execution_count": 35,
   "metadata": {},
   "outputs": [
    {
     "name": "stdout",
     "output_type": "stream",
     "text": [
      "[ 2.  6. 10.]\n"
     ]
    }
   ],
   "source": [
    "vec1= np.array ([1.,3.,5.])\n",
    "print(vec1*2)"
   ]
  },
  {
   "cell_type": "markdown",
   "metadata": {},
   "source": [
    "# **3.2 MA TRẬN NUMPY** "
   ]
  },
  {
   "cell_type": "code",
   "execution_count": 38,
   "metadata": {},
   "outputs": [
    {
     "name": "stdout",
     "output_type": "stream",
     "text": [
      "[30 76]\n",
      "[41 54]\n"
     ]
    }
   ],
   "source": [
    "M1= np.array([[9,12],[23,30]])\n",
    "u = np.array([2,1])\n",
    "tichM1u= M1.dot(u)\n",
    "print(tichM1u)\n",
    "print (np.dot(u,M1))"
   ]
  },
  {
   "cell_type": "markdown",
   "metadata": {},
   "source": []
  },
  {
   "cell_type": "code",
   "execution_count": 74,
   "metadata": {},
   "outputs": [
    {
     "name": "stdout",
     "output_type": "stream",
     "text": [
      "-2\n",
      "Matrix([[5], [7]])\n",
      "Matrix([[1, 3], [2, 4]])\n",
      "Matrix([[26], [38]])\n"
     ]
    }
   ],
   "source": [
    "# M = np.array([[1,3],[2,4]])\n",
    "# v1= np.array([5,7])\n",
    "# TIC = M.dot(v1)\n",
    "\n",
    "# print(TIC)\n",
    "import sympy as sp\n",
    "\n",
    "M1 = sp.Matrix([[1, 3], [2, 4]])\n",
    "\n",
    "print(M1.det())\n",
    "d11 = sp.Matrix([5, 7])\n",
    "print(d11)\n",
    "print(M1)\n",
    "g = M1*d11\n",
    "print(g)\n",
    "\n"
   ]
  },
  {
   "cell_type": "code",
   "execution_count": null,
   "metadata": {},
   "outputs": [],
   "source": []
  },
  {
   "cell_type": "code",
   "execution_count": null,
   "metadata": {},
   "outputs": [],
   "source": []
  }
 ],
 "metadata": {
  "kernelspec": {
   "display_name": "Python 3",
   "language": "python",
   "name": "python3"
  },
  "language_info": {
   "codemirror_mode": {
    "name": "ipython",
    "version": 3
   },
   "file_extension": ".py",
   "mimetype": "text/x-python",
   "name": "python",
   "nbconvert_exporter": "python",
   "pygments_lexer": "ipython3",
   "version": "3.12.1"
  }
 },
 "nbformat": 4,
 "nbformat_minor": 2
}
