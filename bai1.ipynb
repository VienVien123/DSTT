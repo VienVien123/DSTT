{
 "cells": [
  {
   "cell_type": "markdown",
   "metadata": {},
   "source": [
    "## **BÀI TẬP TRÊN LỚP**\n"
   ]
  },
  {
   "cell_type": "code",
   "execution_count": 20,
   "metadata": {},
   "outputs": [],
   "source": [
    "import numpy as np\n",
    "import sympy as sp"
   ]
  },
  {
   "cell_type": "markdown",
   "metadata": {},
   "source": [
    "\n",
    "$$ \\text {mat1} =\\left( \\begin{matrix} 0.& 0.& 0.& 0.& 0.& \\\\ 0.& 0.& 0.& 0.& 0.& \\\\ 0.& 0.& 0.& 0.& 0.& \\\\ 0.& 0.& 0.& 0.& 0.& \\\\ 0.& 0.& 0.& 0.& 0.& \\end{matrix} \\right) $$"
   ]
  },
  {
   "cell_type": "code",
   "execution_count": 11,
   "metadata": {},
   "outputs": [],
   "source": [
    "mat1 = np.zeros([5,5])\n",
    "#print(mat1)"
   ]
  },
  {
   "cell_type": "code",
   "execution_count": 12,
   "metadata": {},
   "outputs": [
    {
     "name": "stdout",
     "output_type": "stream",
     "text": [
      "[[1. 1. 1. 1. 1.]\n",
      " [1. 1. 1. 1. 1.]\n",
      " [1. 1. 1. 1. 1.]\n",
      " [1. 1. 1. 1. 1.]\n",
      " [1. 1. 1. 1. 1.]]\n"
     ]
    }
   ],
   "source": [
    "mat2 = np.ones( [5,5])\n",
    "print (mat2)\n"
   ]
  },
  {
   "cell_type": "code",
   "execution_count": 13,
   "metadata": {},
   "outputs": [
    {
     "name": "stdout",
     "output_type": "stream",
     "text": [
      "[[2. 2. 2. 2. 2.]\n",
      " [2. 2. 2. 2. 2.]\n",
      " [2. 2. 2. 2. 2.]\n",
      " [2. 2. 2. 2. 2.]\n",
      " [2. 2. 2. 2. 2.]]\n"
     ]
    }
   ],
   "source": [
    "mat3 = mat1 + 2* mat2\n",
    "print (mat3)"
   ]
  },
  {
   "cell_type": "code",
   "execution_count": 14,
   "metadata": {},
   "outputs": [
    {
     "name": "stdout",
     "output_type": "stream",
     "text": [
      "[[ 2.  2.  2.  2.  2.]\n",
      " [ 2.  2.  2.  2.  2.]\n",
      " [ 2.  2.  2.  2.  2.]\n",
      " [ 2.  2. 10.  2.  2.]\n",
      " [ 2.  2.  2.  2.  2.]]\n",
      "[[ 2.  2.  2.  2.  2.]\n",
      " [ 2.  2.  2.  2.  2.]\n",
      " [ 2.  2.  2.  2.  2.]\n",
      " [ 2.  2. 10.  2.  2.]\n",
      " [ 2.  2.  2.  2.  2.]]\n"
     ]
    }
   ],
   "source": [
    "mat4 = mat3\n",
    "mat3[3][2] = 10\n",
    "print (mat4)\n",
    "print (mat3)"
   ]
  },
  {
   "cell_type": "markdown",
   "metadata": {},
   "source": [
    " **vậy mat3 thay đôi thì mat4 cũng thay dổi theo**\n",
    " "
   ]
  },
  {
   "cell_type": "code",
   "execution_count": 16,
   "metadata": {},
   "outputs": [
    {
     "name": "stdout",
     "output_type": "stream",
     "text": [
      "[[ 2.  2.  2.  2.  2.]\n",
      " [ 2.  2.  2.  2.  2.]\n",
      " [ 2.  2.  2.  2.  2.]\n",
      " [ 2.  2. 10.  2.  2.]\n",
      " [ 2.  2.  2.  2.  2.]]\n",
      "\n",
      "[[ 2.  2.  2.  2.  2.]\n",
      " [ 2.  2.  2.  2.  2.]\n",
      " [ 2.  2.  2.  2.  2.]\n",
      " [ 2.  2. 10.  2.  2.]\n",
      " [ 2.  2.  2.  2.  2.]]\n"
     ]
    }
   ],
   "source": [
    "mat5 = np.copy(mat3)\n",
    "mat3[3][2] = 10\n",
    "print (mat4)\n",
    "print (\"\")\n",
    "print (mat5)"
   ]
  },
  {
   "cell_type": "markdown",
   "metadata": {},
   "source": [
    "**vậy  mat3 thay đổi thì mat4 mat5 cũng thay đổi theo**"
   ]
  },
  {
   "cell_type": "code",
   "execution_count": null,
   "metadata": {},
   "outputs": [],
   "source": [
    "mat6 = np.empty([4, 5])\n",
    "print (mat6)\n"
   ]
  },
  {
   "cell_type": "code",
   "execution_count": 18,
   "metadata": {},
   "outputs": [
    {
     "name": "stdout",
     "output_type": "stream",
     "text": [
      "[[1. 0. 0. 0.]\n",
      " [0. 1. 0. 0.]\n",
      " [0. 0. 1. 0.]\n",
      " [0. 0. 0. 1.]]\n"
     ]
    }
   ],
   "source": [
    "mat7 = np.identity(4)\n",
    "print (mat7)\n"
   ]
  },
  {
   "cell_type": "code",
   "execution_count": 17,
   "metadata": {},
   "outputs": [
    {
     "name": "stdout",
     "output_type": "stream",
     "text": [
      "[[0.4328343  0.69747479 0.6905454  0.81720769 0.72769399]\n",
      " [0.50790688 0.30201996 0.54065168 0.56898134 0.20236816]\n",
      " [0.56512948 0.56050258 0.99450852 0.27535839 0.4406109 ]\n",
      " [0.1796634  0.04873492 0.01824492 0.04493235 0.14126906]]\n"
     ]
    }
   ],
   "source": [
    "mat8 = np.random.random([4,5])\n",
    "print(mat8)"
   ]
  },
  {
   "cell_type": "code",
   "execution_count": 24,
   "metadata": {},
   "outputs": [
    {
     "name": "stdout",
     "output_type": "stream",
     "text": [
      "Matrix([[1, 3], [2, 4]])\n"
     ]
    }
   ],
   "source": [
    "M = sp.Matrix([[1, 3], [2, 4]])\n",
    "print (M)\n",
    "\n"
   ]
  },
  {
   "cell_type": "markdown",
   "metadata": {},
   "source": [
    "## **BÀI TẬP CHƯƠNG 1**\n"
   ]
  },
  {
   "cell_type": "markdown",
   "metadata": {},
   "source": [
    "**BÀI 1**\n",
    "Điểm  môn học của một nhóm SV:\n"
   ]
  },
  {
   "cell_type": "code",
   "execution_count": 29,
   "metadata": {},
   "outputs": [
    {
     "name": "stdout",
     "output_type": "stream",
     "text": [
      "[[ 7  8  9  5]\n",
      " [ 8  7  4  6]\n",
      " [ 7  5  8  6]\n",
      " [ 6  8  5  4]\n",
      " [ 9  9  8  7]\n",
      " [10  8  9  8]]\n"
     ]
    }
   ],
   "source": [
    "import numpy as np\n",
    "a= np.array([[7,8,9,5],[8,7,4,6],[7,5,8,6],[6,8,5,4],[9,9,8,7],[10,8,9,8]])\n",
    "print (a)\n"
   ]
  },
  {
   "cell_type": "markdown",
   "metadata": {},
   "source": [
    "để tính điểm trung bình của từng học sinh biết rằng BT cá nhân 10%, báo cáo 20%, giữa kì 30%, cuối kì 40%\n"
   ]
  },
  {
   "cell_type": "code",
   "execution_count": 1,
   "metadata": {},
   "outputs": [
    {
     "ename": "NameError",
     "evalue": "name 'a' is not defined",
     "output_type": "error",
     "traceback": [
      "\u001b[1;31m---------------------------------------------------------------------------\u001b[0m",
      "\u001b[1;31mNameError\u001b[0m                                 Traceback (most recent call last)",
      "Cell \u001b[1;32mIn[1], line 1\u001b[0m\n\u001b[1;32m----> 1\u001b[0m nhanMT \u001b[38;5;241m=\u001b[39m \u001b[43ma\u001b[49m\u001b[38;5;241m*\u001b[39m[\u001b[38;5;241m10\u001b[39m,\u001b[38;5;241m20\u001b[39m,\u001b[38;5;241m30\u001b[39m,\u001b[38;5;241m40\u001b[39m]\n\u001b[0;32m      2\u001b[0m tintb \u001b[38;5;241m=\u001b[39m a\u001b[38;5;241m.\u001b[39mmean(nhanMT, axis\u001b[38;5;241m=\u001b[39m\u001b[38;5;241m1\u001b[39m)\n",
      "\u001b[1;31mNameError\u001b[0m: name 'a' is not defined"
     ]
    }
   ],
   "source": [
    "nhanMT = a*[10,20,30,40]\n",
    "tintb = a.mean(nhanMT, axis=1)\n"
   ]
  },
  {
   "cell_type": "markdown",
   "metadata": {},
   "source": []
  },
  {
   "cell_type": "markdown",
   "metadata": {},
   "source": []
  }
 ],
 "metadata": {
  "kernelspec": {
   "display_name": "Python 3",
   "language": "python",
   "name": "python3"
  },
  "language_info": {
   "codemirror_mode": {
    "name": "ipython",
    "version": 3
   },
   "file_extension": ".py",
   "mimetype": "text/x-python",
   "name": "python",
   "nbconvert_exporter": "python",
   "pygments_lexer": "ipython3",
   "version": "3.12.1"
  }
 },
 "nbformat": 4,
 "nbformat_minor": 2
}
