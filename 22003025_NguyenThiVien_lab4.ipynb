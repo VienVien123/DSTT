{
 "cells": [
  {
   "cell_type": "code",
   "execution_count": 2,
   "metadata": {},
   "outputs": [],
   "source": [
    "import numpy as np\n",
    "from sympy import *\n",
    "from scipy import linalg"
   ]
  },
  {
   "cell_type": "markdown",
   "metadata": {},
   "source": [
    "# **BÀI 1**"
   ]
  },
  {
   "cell_type": "code",
   "execution_count": 10,
   "metadata": {},
   "outputs": [
    {
     "name": "stdout",
     "output_type": "stream",
     "text": [
      "[[1 2 3]\n",
      " [2 3 2]\n",
      " [1 3 1]]\n",
      "ma trận hệ số kép là: [[-3.  0.  3.]\n",
      " [ 7. -2. -1.]\n",
      " [-5.  4. -1.]]\n"
     ]
    }
   ],
   "source": [
    "a=np.array([[1,2,3],[0,4,5],[1,0,6]])\n",
    "#  MA TRẬN HỆ SỐ KÉP\n",
    "print(a)\n",
    "def cofactor_matrix(matrix):\n",
    "    row,col= matrix.shape\n",
    "    det_matrix= np.linalg.det(matrix)\n",
    "    if det_matrix !=0:\n",
    "        cofactor= None\n",
    "        cofactor= np.linalg.inv(matrix).T *det_matrix\n",
    "        return cofactor\n",
    "print(f\"ma trận hệ số kép là: {cofactor_matrix(a)}\")\n"
   ]
  },
  {
   "cell_type": "markdown",
   "metadata": {},
   "source": [
    "Ma trận liên hợp (adjoint matrix) là ma trận chuyển vị của ma trận các cofactor của một ma trận vuông."
   ]
  },
  {
   "cell_type": "code",
   "execution_count": 9,
   "metadata": {},
   "outputs": [
    {
     "name": "stdout",
     "output_type": "stream",
     "text": [
      "ma trân lien hơp: [[ 24. -12.  -2.]\n",
      " [  5.   3.  -5.]\n",
      " [ -4.   2.   4.]]\n"
     ]
    }
   ],
   "source": [
    "#MA TRẬN LIÊN HỢP\n",
    "adjoint_matrix= np.transpose(cofactor_matrix(a))\n",
    "print(f\"ma trân lien hơp: {adjoint_matrix}\")"
   ]
  },
  {
   "cell_type": "markdown",
   "metadata": {},
   "source": [
    "# **BÀI 2**"
   ]
  },
  {
   "cell_type": "markdown",
   "metadata": {},
   "source": [
    "$ \\begin{bmatrix}\n",
    "x^{2}+y^{2} & x&y&1\\\\\n",
    "x_1^{2}+y_1^{2} & x_1&y_1&1\\\\\n",
    "x_2^{2}+y_2^{2} & x_2&y_2&1\\\\\n",
    "x_3^{2}+y_3^{2} & x_3&y_3&1\\\\\n",
    "\\end{bmatrix} $\n",
    "\n",
    "cho toạ độ A(-1,3), B(0,1), C(-2,0)\n",
    "\n",
    "$ \\Rightarrow $ \n",
    "$ \\begin{bmatrix}\n",
    "x^{2}+y^{2} & x&y&1\\\\\n",
    "-1^{2}+3^{2} & -1&3&1\\\\\n",
    "0^{2}+1^{2} & 0&1&1\\\\\n",
    "-2^{2}+0^{2} & -3&0&1\\\\\n",
    "\\end{bmatrix} $\n"
   ]
  },
  {
   "cell_type": "code",
   "execution_count": 24,
   "metadata": {},
   "outputs": [
    {
     "data": {
      "text/latex": [
       "$\\displaystyle - 7 x^{2} - 27 x - 7 y^{2} + 18 y - 11$"
      ],
      "text/plain": [
       "-7*x**2 - 27*x - 7*y**2 + 18*y - 11"
      ]
     },
     "execution_count": 24,
     "metadata": {},
     "output_type": "execute_result"
    }
   ],
   "source": [
    "x,y= symbols('x,y')\n",
    "mp=Matrix([[x**2+y**2,x,y,1],[(-1)**2+3**2,-1,3,1],[(0)**2+1**2,0,1,1],[(-2)**0+3**2,-3,0,1]])\n",
    "mp.det()\n"
   ]
  }
 ],
 "metadata": {
  "kernelspec": {
   "display_name": "Python 3",
   "language": "python",
   "name": "python3"
  },
  "language_info": {
   "codemirror_mode": {
    "name": "ipython",
    "version": 3
   },
   "file_extension": ".py",
   "mimetype": "text/x-python",
   "name": "python",
   "nbconvert_exporter": "python",
   "pygments_lexer": "ipython3",
   "version": "3.12.1"
  }
 },
 "nbformat": 4,
 "nbformat_minor": 2
}
